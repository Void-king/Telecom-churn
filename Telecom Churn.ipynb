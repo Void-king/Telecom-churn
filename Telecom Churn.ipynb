{
 "cells": [
  {
   "cell_type": "markdown",
   "id": "678ed315",
   "metadata": {},
   "source": [
    "# <font color='red' > Exploratory Data Analysis of Telecom Churn Data </font>    "
   ]
  },
  {
   "cell_type": "code",
   "execution_count": 1,
   "id": "33163738",
   "metadata": {},
   "outputs": [],
   "source": [
    "# Importing important modules required  for analysis and visualization\n",
    "\n",
    "import numpy as np\n",
    "import pandas as pd\n",
    "import matplotlib.pyplot as plt\n",
    "import seaborn as sns\n"
   ]
  },
  {
   "cell_type": "markdown",
   "id": "54d9426e",
   "metadata": {},
   "source": [
    "### Dataset Info and Objective"
   ]
  },
  {
   "cell_type": "markdown",
   "id": "e4c2d61a",
   "metadata": {},
   "source": [
    "The dataset given is a dataset from Telecommunication industry, and we have to analysis the churn of customers and the insights behind it.\n",
    "\n",
    "Churn prediction is analytical studies on the possibility of a customer abandoning a product or service. The goal is to understand and take steps to change it before the costumer gives up the product or service.\n",
    "\n",
    "The above dataset has 3333 rows and 20 columns. There are no mising values and duplicate values in the dataset."
   ]
  },
  {
   "cell_type": "code",
   "execution_count": 2,
   "id": "811c9864",
   "metadata": {},
   "outputs": [],
   "source": [
    "# Reading the csv file\n",
    "\n",
    "df=pd.read_csv('E:\\Code with em\\Data\\Telecom Churn.csv',parse_dates=True)"
   ]
  },
  {
   "cell_type": "markdown",
   "id": "fcb346d3",
   "metadata": {},
   "source": [
    "### Variable Description"
   ]
  },
  {
   "cell_type": "markdown",
   "id": "15401537",
   "metadata": {},
   "source": [
    "\n",
    "* **State**                :categorica for the 51 states\n",
    "\n",
    "* **Account Length**       :how long account has been active\n",
    "\n",
    "* **Area Code**            :Code Number of Area having some States included in each area code\n",
    "\n",
    "* **lntl Plan**            :International plan activated ( yes, no )\n",
    "\n",
    "* **VMail Plan**           :ice Mail plan activated ( yes ,no )\n",
    "\n",
    "* **VMail Message**        :No.of voice mail messages\n",
    "\n",
    "* **Day Mins**             :Total day minutes used\n",
    "\n",
    "* **Day calls**         :Total day calls made\n",
    "\n",
    "* **Day Charge**         :Total day charge\n",
    "\n",
    "* **Eve Mins**          :Total evening minutes\n",
    "\n",
    "* **Eve Calls**          :Total evening calls\n",
    "\n",
    "* **Eve Charge**         :Total evening charge\n",
    "\n",
    "* **Night Mins**         :Total night minutes\n",
    "\n",
    "* **Night Calls**        :Total night calls\n",
    "\n",
    "* **Night Charge**      :Total night charge\n",
    "\n",
    "* **Intl Mins**         :Total International minutes used\n",
    "\n",
    "* **Intl Calls**         :Total International calls made\n",
    "\n",
    "* **Intl Charge**        :Total International charge\n",
    "\n",
    "* **CustServ calls**    :Number of customer service caUs made\n",
    "\n",
    "* **Churn**             :Customer churn (Target Variable True=1, False=0)"
   ]
  },
  {
   "cell_type": "code",
   "execution_count": 26,
   "id": "6c16f759",
   "metadata": {},
   "outputs": [
    {
     "data": {
      "text/plain": [
       "(3333, 20)"
      ]
     },
     "execution_count": 26,
     "metadata": {},
     "output_type": "execute_result"
    }
   ],
   "source": [
    "# checking the shape of data\n",
    "df.shape"
   ]
  },
  {
   "cell_type": "code",
   "execution_count": 3,
   "id": "dfb6adc2",
   "metadata": {},
   "outputs": [
    {
     "data": {
      "text/html": [
       "<div>\n",
       "<style scoped>\n",
       "    .dataframe tbody tr th:only-of-type {\n",
       "        vertical-align: middle;\n",
       "    }\n",
       "\n",
       "    .dataframe tbody tr th {\n",
       "        vertical-align: top;\n",
       "    }\n",
       "\n",
       "    .dataframe thead th {\n",
       "        text-align: right;\n",
       "    }\n",
       "</style>\n",
       "<table border=\"1\" class=\"dataframe\">\n",
       "  <thead>\n",
       "    <tr style=\"text-align: right;\">\n",
       "      <th></th>\n",
       "      <th>State</th>\n",
       "      <th>Account length</th>\n",
       "      <th>Area code</th>\n",
       "      <th>International plan</th>\n",
       "      <th>Voice mail plan</th>\n",
       "      <th>Number vmail messages</th>\n",
       "      <th>Total day minutes</th>\n",
       "      <th>Total day calls</th>\n",
       "      <th>Total day charge</th>\n",
       "      <th>Total eve minutes</th>\n",
       "      <th>Total eve calls</th>\n",
       "      <th>Total eve charge</th>\n",
       "      <th>Total night minutes</th>\n",
       "      <th>Total night calls</th>\n",
       "      <th>Total night charge</th>\n",
       "      <th>Total intl minutes</th>\n",
       "      <th>Total intl calls</th>\n",
       "      <th>Total intl charge</th>\n",
       "      <th>Customer service calls</th>\n",
       "      <th>Churn</th>\n",
       "    </tr>\n",
       "  </thead>\n",
       "  <tbody>\n",
       "    <tr>\n",
       "      <th>0</th>\n",
       "      <td>KS</td>\n",
       "      <td>128</td>\n",
       "      <td>415</td>\n",
       "      <td>No</td>\n",
       "      <td>Yes</td>\n",
       "      <td>25</td>\n",
       "      <td>265.1</td>\n",
       "      <td>110</td>\n",
       "      <td>45.07</td>\n",
       "      <td>197.4</td>\n",
       "      <td>99</td>\n",
       "      <td>16.78</td>\n",
       "      <td>244.7</td>\n",
       "      <td>91</td>\n",
       "      <td>11.01</td>\n",
       "      <td>10.0</td>\n",
       "      <td>3</td>\n",
       "      <td>2.70</td>\n",
       "      <td>1</td>\n",
       "      <td>False</td>\n",
       "    </tr>\n",
       "    <tr>\n",
       "      <th>1</th>\n",
       "      <td>OH</td>\n",
       "      <td>107</td>\n",
       "      <td>415</td>\n",
       "      <td>No</td>\n",
       "      <td>Yes</td>\n",
       "      <td>26</td>\n",
       "      <td>161.6</td>\n",
       "      <td>123</td>\n",
       "      <td>27.47</td>\n",
       "      <td>195.5</td>\n",
       "      <td>103</td>\n",
       "      <td>16.62</td>\n",
       "      <td>254.4</td>\n",
       "      <td>103</td>\n",
       "      <td>11.45</td>\n",
       "      <td>13.7</td>\n",
       "      <td>3</td>\n",
       "      <td>3.70</td>\n",
       "      <td>1</td>\n",
       "      <td>False</td>\n",
       "    </tr>\n",
       "    <tr>\n",
       "      <th>2</th>\n",
       "      <td>NJ</td>\n",
       "      <td>137</td>\n",
       "      <td>415</td>\n",
       "      <td>No</td>\n",
       "      <td>No</td>\n",
       "      <td>0</td>\n",
       "      <td>243.4</td>\n",
       "      <td>114</td>\n",
       "      <td>41.38</td>\n",
       "      <td>121.2</td>\n",
       "      <td>110</td>\n",
       "      <td>10.30</td>\n",
       "      <td>162.6</td>\n",
       "      <td>104</td>\n",
       "      <td>7.32</td>\n",
       "      <td>12.2</td>\n",
       "      <td>5</td>\n",
       "      <td>3.29</td>\n",
       "      <td>0</td>\n",
       "      <td>False</td>\n",
       "    </tr>\n",
       "    <tr>\n",
       "      <th>3</th>\n",
       "      <td>OH</td>\n",
       "      <td>84</td>\n",
       "      <td>408</td>\n",
       "      <td>Yes</td>\n",
       "      <td>No</td>\n",
       "      <td>0</td>\n",
       "      <td>299.4</td>\n",
       "      <td>71</td>\n",
       "      <td>50.90</td>\n",
       "      <td>61.9</td>\n",
       "      <td>88</td>\n",
       "      <td>5.26</td>\n",
       "      <td>196.9</td>\n",
       "      <td>89</td>\n",
       "      <td>8.86</td>\n",
       "      <td>6.6</td>\n",
       "      <td>7</td>\n",
       "      <td>1.78</td>\n",
       "      <td>2</td>\n",
       "      <td>False</td>\n",
       "    </tr>\n",
       "    <tr>\n",
       "      <th>4</th>\n",
       "      <td>OK</td>\n",
       "      <td>75</td>\n",
       "      <td>415</td>\n",
       "      <td>Yes</td>\n",
       "      <td>No</td>\n",
       "      <td>0</td>\n",
       "      <td>166.7</td>\n",
       "      <td>113</td>\n",
       "      <td>28.34</td>\n",
       "      <td>148.3</td>\n",
       "      <td>122</td>\n",
       "      <td>12.61</td>\n",
       "      <td>186.9</td>\n",
       "      <td>121</td>\n",
       "      <td>8.41</td>\n",
       "      <td>10.1</td>\n",
       "      <td>3</td>\n",
       "      <td>2.73</td>\n",
       "      <td>3</td>\n",
       "      <td>False</td>\n",
       "    </tr>\n",
       "  </tbody>\n",
       "</table>\n",
       "</div>"
      ],
      "text/plain": [
       "  State  Account length  Area code International plan Voice mail plan  \\\n",
       "0    KS             128        415                 No             Yes   \n",
       "1    OH             107        415                 No             Yes   \n",
       "2    NJ             137        415                 No              No   \n",
       "3    OH              84        408                Yes              No   \n",
       "4    OK              75        415                Yes              No   \n",
       "\n",
       "   Number vmail messages  Total day minutes  Total day calls  \\\n",
       "0                     25              265.1              110   \n",
       "1                     26              161.6              123   \n",
       "2                      0              243.4              114   \n",
       "3                      0              299.4               71   \n",
       "4                      0              166.7              113   \n",
       "\n",
       "   Total day charge  Total eve minutes  Total eve calls  Total eve charge  \\\n",
       "0             45.07              197.4               99             16.78   \n",
       "1             27.47              195.5              103             16.62   \n",
       "2             41.38              121.2              110             10.30   \n",
       "3             50.90               61.9               88              5.26   \n",
       "4             28.34              148.3              122             12.61   \n",
       "\n",
       "   Total night minutes  Total night calls  Total night charge  \\\n",
       "0                244.7                 91               11.01   \n",
       "1                254.4                103               11.45   \n",
       "2                162.6                104                7.32   \n",
       "3                196.9                 89                8.86   \n",
       "4                186.9                121                8.41   \n",
       "\n",
       "   Total intl minutes  Total intl calls  Total intl charge  \\\n",
       "0                10.0                 3               2.70   \n",
       "1                13.7                 3               3.70   \n",
       "2                12.2                 5               3.29   \n",
       "3                 6.6                 7               1.78   \n",
       "4                10.1                 3               2.73   \n",
       "\n",
       "   Customer service calls  Churn  \n",
       "0                       1  False  \n",
       "1                       1  False  \n",
       "2                       0  False  \n",
       "3                       2  False  \n",
       "4                       3  False  "
      ]
     },
     "execution_count": 3,
     "metadata": {},
     "output_type": "execute_result"
    }
   ],
   "source": [
    "#  Reading the first 5 rows of the datatframe\n",
    "\n",
    "df.head(5)"
   ]
  },
  {
   "cell_type": "code",
   "execution_count": 4,
   "id": "9678b1b1",
   "metadata": {},
   "outputs": [
    {
     "name": "stdout",
     "output_type": "stream",
     "text": [
      "The shape of data is 3333 rows and 20 fields\n"
     ]
    }
   ],
   "source": [
    "# Checking the shape of the dataframe\n",
    "\n",
    "print('The shape of data is {} rows and {} fields'.format(df.shape[0], df.shape[1]))"
   ]
  },
  {
   "cell_type": "code",
   "execution_count": 5,
   "id": "cea25734",
   "metadata": {},
   "outputs": [
    {
     "data": {
      "text/plain": [
       "State                       51\n",
       "Account length             212\n",
       "Area code                    3\n",
       "International plan           2\n",
       "Voice mail plan              2\n",
       "Number vmail messages       46\n",
       "Total day minutes         1667\n",
       "Total day calls            119\n",
       "Total day charge          1667\n",
       "Total eve minutes         1611\n",
       "Total eve calls            123\n",
       "Total eve charge          1440\n",
       "Total night minutes       1591\n",
       "Total night calls          120\n",
       "Total night charge         933\n",
       "Total intl minutes         162\n",
       "Total intl calls            21\n",
       "Total intl charge          162\n",
       "Customer service calls      10\n",
       "Churn                        2\n",
       "dtype: int64"
      ]
     },
     "execution_count": 5,
     "metadata": {},
     "output_type": "execute_result"
    }
   ],
   "source": [
    "#Checking all the unique value present in the field\n",
    "\n",
    "df.nunique()"
   ]
  },
  {
   "cell_type": "code",
   "execution_count": 6,
   "id": "324d1516",
   "metadata": {},
   "outputs": [
    {
     "name": "stdout",
     "output_type": "stream",
     "text": [
      "<class 'pandas.core.frame.DataFrame'>\n",
      "RangeIndex: 3333 entries, 0 to 3332\n",
      "Data columns (total 20 columns):\n",
      " #   Column                  Non-Null Count  Dtype  \n",
      "---  ------                  --------------  -----  \n",
      " 0   State                   3333 non-null   object \n",
      " 1   Account length          3333 non-null   int64  \n",
      " 2   Area code               3333 non-null   int64  \n",
      " 3   International plan      3333 non-null   object \n",
      " 4   Voice mail plan         3333 non-null   object \n",
      " 5   Number vmail messages   3333 non-null   int64  \n",
      " 6   Total day minutes       3333 non-null   float64\n",
      " 7   Total day calls         3333 non-null   int64  \n",
      " 8   Total day charge        3333 non-null   float64\n",
      " 9   Total eve minutes       3333 non-null   float64\n",
      " 10  Total eve calls         3333 non-null   int64  \n",
      " 11  Total eve charge        3333 non-null   float64\n",
      " 12  Total night minutes     3333 non-null   float64\n",
      " 13  Total night calls       3333 non-null   int64  \n",
      " 14  Total night charge      3333 non-null   float64\n",
      " 15  Total intl minutes      3333 non-null   float64\n",
      " 16  Total intl calls        3333 non-null   int64  \n",
      " 17  Total intl charge       3333 non-null   float64\n",
      " 18  Customer service calls  3333 non-null   int64  \n",
      " 19  Churn                   3333 non-null   bool   \n",
      "dtypes: bool(1), float64(8), int64(8), object(3)\n",
      "memory usage: 498.1+ KB\n"
     ]
    }
   ],
   "source": [
    "# Checking the basic info about the data like total non null values in each column and their  data types\n",
    "\n",
    "df.info()"
   ]
  },
  {
   "cell_type": "code",
   "execution_count": 7,
   "id": "9f20b80d",
   "metadata": {},
   "outputs": [
    {
     "data": {
      "text/html": [
       "<div>\n",
       "<style scoped>\n",
       "    .dataframe tbody tr th:only-of-type {\n",
       "        vertical-align: middle;\n",
       "    }\n",
       "\n",
       "    .dataframe tbody tr th {\n",
       "        vertical-align: top;\n",
       "    }\n",
       "\n",
       "    .dataframe thead th {\n",
       "        text-align: right;\n",
       "    }\n",
       "</style>\n",
       "<table border=\"1\" class=\"dataframe\">\n",
       "  <thead>\n",
       "    <tr style=\"text-align: right;\">\n",
       "      <th></th>\n",
       "      <th>count</th>\n",
       "      <th>mean</th>\n",
       "      <th>std</th>\n",
       "      <th>min</th>\n",
       "      <th>25%</th>\n",
       "      <th>50%</th>\n",
       "      <th>75%</th>\n",
       "      <th>max</th>\n",
       "    </tr>\n",
       "  </thead>\n",
       "  <tbody>\n",
       "    <tr>\n",
       "      <th>Account length</th>\n",
       "      <td>3333.0</td>\n",
       "      <td>101.064806</td>\n",
       "      <td>39.822106</td>\n",
       "      <td>1.00</td>\n",
       "      <td>74.00</td>\n",
       "      <td>101.00</td>\n",
       "      <td>127.00</td>\n",
       "      <td>243.00</td>\n",
       "    </tr>\n",
       "    <tr>\n",
       "      <th>Area code</th>\n",
       "      <td>3333.0</td>\n",
       "      <td>437.182418</td>\n",
       "      <td>42.371290</td>\n",
       "      <td>408.00</td>\n",
       "      <td>408.00</td>\n",
       "      <td>415.00</td>\n",
       "      <td>510.00</td>\n",
       "      <td>510.00</td>\n",
       "    </tr>\n",
       "    <tr>\n",
       "      <th>Number vmail messages</th>\n",
       "      <td>3333.0</td>\n",
       "      <td>8.099010</td>\n",
       "      <td>13.688365</td>\n",
       "      <td>0.00</td>\n",
       "      <td>0.00</td>\n",
       "      <td>0.00</td>\n",
       "      <td>20.00</td>\n",
       "      <td>51.00</td>\n",
       "    </tr>\n",
       "    <tr>\n",
       "      <th>Total day minutes</th>\n",
       "      <td>3333.0</td>\n",
       "      <td>179.775098</td>\n",
       "      <td>54.467389</td>\n",
       "      <td>0.00</td>\n",
       "      <td>143.70</td>\n",
       "      <td>179.40</td>\n",
       "      <td>216.40</td>\n",
       "      <td>350.80</td>\n",
       "    </tr>\n",
       "    <tr>\n",
       "      <th>Total day calls</th>\n",
       "      <td>3333.0</td>\n",
       "      <td>100.435644</td>\n",
       "      <td>20.069084</td>\n",
       "      <td>0.00</td>\n",
       "      <td>87.00</td>\n",
       "      <td>101.00</td>\n",
       "      <td>114.00</td>\n",
       "      <td>165.00</td>\n",
       "    </tr>\n",
       "    <tr>\n",
       "      <th>Total day charge</th>\n",
       "      <td>3333.0</td>\n",
       "      <td>30.562307</td>\n",
       "      <td>9.259435</td>\n",
       "      <td>0.00</td>\n",
       "      <td>24.43</td>\n",
       "      <td>30.50</td>\n",
       "      <td>36.79</td>\n",
       "      <td>59.64</td>\n",
       "    </tr>\n",
       "    <tr>\n",
       "      <th>Total eve minutes</th>\n",
       "      <td>3333.0</td>\n",
       "      <td>200.980348</td>\n",
       "      <td>50.713844</td>\n",
       "      <td>0.00</td>\n",
       "      <td>166.60</td>\n",
       "      <td>201.40</td>\n",
       "      <td>235.30</td>\n",
       "      <td>363.70</td>\n",
       "    </tr>\n",
       "    <tr>\n",
       "      <th>Total eve calls</th>\n",
       "      <td>3333.0</td>\n",
       "      <td>100.114311</td>\n",
       "      <td>19.922625</td>\n",
       "      <td>0.00</td>\n",
       "      <td>87.00</td>\n",
       "      <td>100.00</td>\n",
       "      <td>114.00</td>\n",
       "      <td>170.00</td>\n",
       "    </tr>\n",
       "    <tr>\n",
       "      <th>Total eve charge</th>\n",
       "      <td>3333.0</td>\n",
       "      <td>17.083540</td>\n",
       "      <td>4.310668</td>\n",
       "      <td>0.00</td>\n",
       "      <td>14.16</td>\n",
       "      <td>17.12</td>\n",
       "      <td>20.00</td>\n",
       "      <td>30.91</td>\n",
       "    </tr>\n",
       "    <tr>\n",
       "      <th>Total night minutes</th>\n",
       "      <td>3333.0</td>\n",
       "      <td>200.872037</td>\n",
       "      <td>50.573847</td>\n",
       "      <td>23.20</td>\n",
       "      <td>167.00</td>\n",
       "      <td>201.20</td>\n",
       "      <td>235.30</td>\n",
       "      <td>395.00</td>\n",
       "    </tr>\n",
       "    <tr>\n",
       "      <th>Total night calls</th>\n",
       "      <td>3333.0</td>\n",
       "      <td>100.107711</td>\n",
       "      <td>19.568609</td>\n",
       "      <td>33.00</td>\n",
       "      <td>87.00</td>\n",
       "      <td>100.00</td>\n",
       "      <td>113.00</td>\n",
       "      <td>175.00</td>\n",
       "    </tr>\n",
       "    <tr>\n",
       "      <th>Total night charge</th>\n",
       "      <td>3333.0</td>\n",
       "      <td>9.039325</td>\n",
       "      <td>2.275873</td>\n",
       "      <td>1.04</td>\n",
       "      <td>7.52</td>\n",
       "      <td>9.05</td>\n",
       "      <td>10.59</td>\n",
       "      <td>17.77</td>\n",
       "    </tr>\n",
       "    <tr>\n",
       "      <th>Total intl minutes</th>\n",
       "      <td>3333.0</td>\n",
       "      <td>10.237294</td>\n",
       "      <td>2.791840</td>\n",
       "      <td>0.00</td>\n",
       "      <td>8.50</td>\n",
       "      <td>10.30</td>\n",
       "      <td>12.10</td>\n",
       "      <td>20.00</td>\n",
       "    </tr>\n",
       "    <tr>\n",
       "      <th>Total intl calls</th>\n",
       "      <td>3333.0</td>\n",
       "      <td>4.479448</td>\n",
       "      <td>2.461214</td>\n",
       "      <td>0.00</td>\n",
       "      <td>3.00</td>\n",
       "      <td>4.00</td>\n",
       "      <td>6.00</td>\n",
       "      <td>20.00</td>\n",
       "    </tr>\n",
       "    <tr>\n",
       "      <th>Total intl charge</th>\n",
       "      <td>3333.0</td>\n",
       "      <td>2.764581</td>\n",
       "      <td>0.753773</td>\n",
       "      <td>0.00</td>\n",
       "      <td>2.30</td>\n",
       "      <td>2.78</td>\n",
       "      <td>3.27</td>\n",
       "      <td>5.40</td>\n",
       "    </tr>\n",
       "    <tr>\n",
       "      <th>Customer service calls</th>\n",
       "      <td>3333.0</td>\n",
       "      <td>1.562856</td>\n",
       "      <td>1.315491</td>\n",
       "      <td>0.00</td>\n",
       "      <td>1.00</td>\n",
       "      <td>1.00</td>\n",
       "      <td>2.00</td>\n",
       "      <td>9.00</td>\n",
       "    </tr>\n",
       "  </tbody>\n",
       "</table>\n",
       "</div>"
      ],
      "text/plain": [
       "                         count        mean        std     min     25%     50%  \\\n",
       "Account length          3333.0  101.064806  39.822106    1.00   74.00  101.00   \n",
       "Area code               3333.0  437.182418  42.371290  408.00  408.00  415.00   \n",
       "Number vmail messages   3333.0    8.099010  13.688365    0.00    0.00    0.00   \n",
       "Total day minutes       3333.0  179.775098  54.467389    0.00  143.70  179.40   \n",
       "Total day calls         3333.0  100.435644  20.069084    0.00   87.00  101.00   \n",
       "Total day charge        3333.0   30.562307   9.259435    0.00   24.43   30.50   \n",
       "Total eve minutes       3333.0  200.980348  50.713844    0.00  166.60  201.40   \n",
       "Total eve calls         3333.0  100.114311  19.922625    0.00   87.00  100.00   \n",
       "Total eve charge        3333.0   17.083540   4.310668    0.00   14.16   17.12   \n",
       "Total night minutes     3333.0  200.872037  50.573847   23.20  167.00  201.20   \n",
       "Total night calls       3333.0  100.107711  19.568609   33.00   87.00  100.00   \n",
       "Total night charge      3333.0    9.039325   2.275873    1.04    7.52    9.05   \n",
       "Total intl minutes      3333.0   10.237294   2.791840    0.00    8.50   10.30   \n",
       "Total intl calls        3333.0    4.479448   2.461214    0.00    3.00    4.00   \n",
       "Total intl charge       3333.0    2.764581   0.753773    0.00    2.30    2.78   \n",
       "Customer service calls  3333.0    1.562856   1.315491    0.00    1.00    1.00   \n",
       "\n",
       "                           75%     max  \n",
       "Account length          127.00  243.00  \n",
       "Area code               510.00  510.00  \n",
       "Number vmail messages    20.00   51.00  \n",
       "Total day minutes       216.40  350.80  \n",
       "Total day calls         114.00  165.00  \n",
       "Total day charge         36.79   59.64  \n",
       "Total eve minutes       235.30  363.70  \n",
       "Total eve calls         114.00  170.00  \n",
       "Total eve charge         20.00   30.91  \n",
       "Total night minutes     235.30  395.00  \n",
       "Total night calls       113.00  175.00  \n",
       "Total night charge       10.59   17.77  \n",
       "Total intl minutes       12.10   20.00  \n",
       "Total intl calls          6.00   20.00  \n",
       "Total intl charge         3.27    5.40  \n",
       "Customer service calls    2.00    9.00  "
      ]
     },
     "execution_count": 7,
     "metadata": {},
     "output_type": "execute_result"
    }
   ],
   "source": [
    "# Calculating the basic statistical data of the fields\n",
    "\n",
    "df.describe().transpose()"
   ]
  },
  {
   "cell_type": "code",
   "execution_count": 27,
   "id": "d29a2b9d",
   "metadata": {},
   "outputs": [
    {
     "data": {
      "text/plain": [
       "Index(['State', 'Account length', 'Area code', 'International plan',\n",
       "       'Voice mail plan', 'Number vmail messages', 'Total day minutes',\n",
       "       'Total day calls', 'Total day charge', 'Total eve minutes',\n",
       "       'Total eve calls', 'Total eve charge', 'Total night minutes',\n",
       "       'Total night calls', 'Total night charge', 'Total intl minutes',\n",
       "       'Total intl calls', 'Total intl charge', 'Customer service calls',\n",
       "       'Churn'],\n",
       "      dtype='object')"
      ]
     },
     "execution_count": 27,
     "metadata": {},
     "output_type": "execute_result"
    }
   ],
   "source": [
    "# Checking the column names\n",
    "df.columns"
   ]
  },
  {
   "cell_type": "markdown",
   "id": "bae9499f",
   "metadata": {},
   "source": [
    "# **1 Percentage of Churn**"
   ]
  },
  {
   "cell_type": "code",
   "execution_count": null,
   "id": "53024a0a",
   "metadata": {},
   "outputs": [
    {
     "data": {
      "text/plain": [
       "{False: 2850, True: 483}"
      ]
     },
     "metadata": {},
     "output_type": "display_data"
    }
   ],
   "source": [
    "# Number of customer who are churned i.e cancelled their subscription.\n",
    "Churn_dict = dict(df['Churn'].value_counts())\n",
    "Churn_dict"
   ]
  },
  {
   "cell_type": "code",
   "execution_count": 47,
   "id": "0528688c",
   "metadata": {},
   "outputs": [
    {
     "data": {
      "image/png": "[encoded data removed]",
      "text/plain": [
       "<Figure size 1000x500 with 1 Axes>"
      ]
     },
     "metadata": {},
     "output_type": "display_data"
    }
   ],
   "source": [
    "# Pie chart showing the percentage of churn \n",
    "\n",
    "#figure size\n",
    "fig = plt.figure(figsize=(10,5))\n",
    "\n",
    "\n",
    "# creating a  customized pie chart \n",
    "plt.pie(Churn_dict.values(), colors = ['lightblue','orange'], shadow=True, wedgeprops= {'edgecolor':'silver'}, explode=[0, 0.2], autopct ='%0.02f%%',pctdistance=0.75)\n",
    "\n",
    "# providing legend and title to the chart\n",
    "plt.legend(Churn_dict.keys(),title ='Churn')\n",
    "plt.title('Total churn percenetage', fontdict = {'font':'Arial','color':'red','size':16})\n",
    "\n",
    "#Creating the inner circle of chart\n",
    "centre_circle = plt.Circle((0, 0), 0.60, fc='b')\n",
    "fig = plt.gcf()\n",
    "fig.gca().add_artist(centre_circle)\n",
    "plt.axis('equal')\n",
    "    \n",
    "#Plotting  the chart\n",
    "plt.show()"
   ]
  },
  {
   "cell_type": "markdown",
   "id": "c3d02b69",
   "metadata": {},
   "source": [
    "**WE can see that there is approximately 14.5% customers who churned their subscription.Out of 3333 customers**"
   ]
  },
  {
   "cell_type": "markdown",
   "id": "5ec6a6c6",
   "metadata": {},
   "source": [
    "# **2 Percentage of Churn by states**"
   ]
  },
  {
   "cell_type": "code",
   "execution_count": 10,
   "id": "8457be3e",
   "metadata": {},
   "outputs": [
    {
     "data": {
      "text/html": [
       "<div>\n",
       "<style scoped>\n",
       "    .dataframe tbody tr th:only-of-type {\n",
       "        vertical-align: middle;\n",
       "    }\n",
       "\n",
       "    .dataframe tbody tr th {\n",
       "        vertical-align: top;\n",
       "    }\n",
       "\n",
       "    .dataframe thead th {\n",
       "        text-align: right;\n",
       "    }\n",
       "</style>\n",
       "<table border=\"1\" class=\"dataframe\">\n",
       "  <thead>\n",
       "    <tr style=\"text-align: right;\">\n",
       "      <th></th>\n",
       "      <th>State</th>\n",
       "      <th>Total</th>\n",
       "    </tr>\n",
       "  </thead>\n",
       "  <tbody>\n",
       "    <tr>\n",
       "      <th>46</th>\n",
       "      <td>AK</td>\n",
       "      <td>52</td>\n",
       "    </tr>\n",
       "    <tr>\n",
       "      <th>3</th>\n",
       "      <td>AL</td>\n",
       "      <td>80</td>\n",
       "    </tr>\n",
       "    <tr>\n",
       "      <th>41</th>\n",
       "      <td>AR</td>\n",
       "      <td>55</td>\n",
       "    </tr>\n",
       "    <tr>\n",
       "      <th>27</th>\n",
       "      <td>AZ</td>\n",
       "      <td>64</td>\n",
       "    </tr>\n",
       "    <tr>\n",
       "      <th>50</th>\n",
       "      <td>CA</td>\n",
       "      <td>34</td>\n",
       "    </tr>\n",
       "  </tbody>\n",
       "</table>\n",
       "</div>"
      ],
      "text/plain": [
       "   State  Total\n",
       "46    AK     52\n",
       "3     AL     80\n",
       "41    AR     55\n",
       "27    AZ     64\n",
       "50    CA     34"
      ]
     },
     "execution_count": 10,
     "metadata": {},
     "output_type": "execute_result"
    }
   ],
   "source": [
    "#count of all the states and sorting the values by state in alphbetic order\n",
    "\n",
    "count_of_states = df.State.value_counts().reset_index().rename(columns={'count':'Total'})\n",
    "count_of_states = count_of_states[['State','Total']].sort_values(by='State')\n",
    "count_of_states.head(5)"
   ]
  },
  {
   "cell_type": "code",
   "execution_count": 11,
   "id": "bf20b1e3",
   "metadata": {},
   "outputs": [
    {
     "data": {
      "text/html": [
       "<div>\n",
       "<style scoped>\n",
       "    .dataframe tbody tr th:only-of-type {\n",
       "        vertical-align: middle;\n",
       "    }\n",
       "\n",
       "    .dataframe tbody tr th {\n",
       "        vertical-align: top;\n",
       "    }\n",
       "\n",
       "    .dataframe thead th {\n",
       "        text-align: right;\n",
       "    }\n",
       "</style>\n",
       "<table border=\"1\" class=\"dataframe\">\n",
       "  <thead>\n",
       "    <tr style=\"text-align: right;\">\n",
       "      <th></th>\n",
       "      <th>State</th>\n",
       "      <th>Churn</th>\n",
       "    </tr>\n",
       "  </thead>\n",
       "  <tbody>\n",
       "    <tr>\n",
       "      <th>0</th>\n",
       "      <td>AK</td>\n",
       "      <td>3</td>\n",
       "    </tr>\n",
       "    <tr>\n",
       "      <th>1</th>\n",
       "      <td>AL</td>\n",
       "      <td>8</td>\n",
       "    </tr>\n",
       "    <tr>\n",
       "      <th>2</th>\n",
       "      <td>AR</td>\n",
       "      <td>11</td>\n",
       "    </tr>\n",
       "    <tr>\n",
       "      <th>3</th>\n",
       "      <td>AZ</td>\n",
       "      <td>4</td>\n",
       "    </tr>\n",
       "    <tr>\n",
       "      <th>4</th>\n",
       "      <td>CA</td>\n",
       "      <td>9</td>\n",
       "    </tr>\n",
       "  </tbody>\n",
       "</table>\n",
       "</div>"
      ],
      "text/plain": [
       "  State  Churn\n",
       "0    AK      3\n",
       "1    AL      8\n",
       "2    AR     11\n",
       "3    AZ      4\n",
       "4    CA      9"
      ]
     },
     "execution_count": 11,
     "metadata": {},
     "output_type": "execute_result"
    }
   ],
   "source": [
    "#Counting the number of states churns in alphabetic order of states\n",
    "\n",
    "value_of_states_churn = df.loc[df.Churn == True].groupby('State')['Churn'].count().reset_index()\n",
    "value_of_states_churn.sort_values(by='State').head(5)"
   ]
  },
  {
   "cell_type": "code",
   "execution_count": 12,
   "id": "b802d63e",
   "metadata": {},
   "outputs": [],
   "source": [
    "# merging the two dataframes\n",
    "Churn_of_states = count_of_states.merge(value_of_states_churn, how='inner')\n",
    "\n",
    "#adding the new column percentage in the dataframe\n",
    "Churn_of_states['Percentage'] =round(Churn_of_states['Churn']/ Churn_of_states['Total']*100, 2)"
   ]
  },
  {
   "cell_type": "code",
   "execution_count": 13,
   "id": "9d2e5a4d",
   "metadata": {},
   "outputs": [
    {
     "data": {
      "text/html": [
       "<div>\n",
       "<style scoped>\n",
       "    .dataframe tbody tr th:only-of-type {\n",
       "        vertical-align: middle;\n",
       "    }\n",
       "\n",
       "    .dataframe tbody tr th {\n",
       "        vertical-align: top;\n",
       "    }\n",
       "\n",
       "    .dataframe thead th {\n",
       "        text-align: right;\n",
       "    }\n",
       "</style>\n",
       "<table border=\"1\" class=\"dataframe\">\n",
       "  <thead>\n",
       "    <tr style=\"text-align: right;\">\n",
       "      <th></th>\n",
       "      <th>State</th>\n",
       "      <th>Total</th>\n",
       "      <th>Churn</th>\n",
       "      <th>Percentage</th>\n",
       "    </tr>\n",
       "  </thead>\n",
       "  <tbody>\n",
       "    <tr>\n",
       "      <th>0</th>\n",
       "      <td>AK</td>\n",
       "      <td>52</td>\n",
       "      <td>3</td>\n",
       "      <td>5.77</td>\n",
       "    </tr>\n",
       "    <tr>\n",
       "      <th>1</th>\n",
       "      <td>AL</td>\n",
       "      <td>80</td>\n",
       "      <td>8</td>\n",
       "      <td>10.00</td>\n",
       "    </tr>\n",
       "    <tr>\n",
       "      <th>2</th>\n",
       "      <td>AR</td>\n",
       "      <td>55</td>\n",
       "      <td>11</td>\n",
       "      <td>20.00</td>\n",
       "    </tr>\n",
       "    <tr>\n",
       "      <th>3</th>\n",
       "      <td>AZ</td>\n",
       "      <td>64</td>\n",
       "      <td>4</td>\n",
       "      <td>6.25</td>\n",
       "    </tr>\n",
       "    <tr>\n",
       "      <th>4</th>\n",
       "      <td>CA</td>\n",
       "      <td>34</td>\n",
       "      <td>9</td>\n",
       "      <td>26.47</td>\n",
       "    </tr>\n",
       "  </tbody>\n",
       "</table>\n",
       "</div>"
      ],
      "text/plain": [
       "  State  Total  Churn  Percentage\n",
       "0    AK     52      3        5.77\n",
       "1    AL     80      8       10.00\n",
       "2    AR     55     11       20.00\n",
       "3    AZ     64      4        6.25\n",
       "4    CA     34      9       26.47"
      ]
     },
     "execution_count": 13,
     "metadata": {},
     "output_type": "execute_result"
    }
   ],
   "source": [
    "# checking the first five rows\n",
    "Churn_of_states.head(5)"
   ]
  },
  {
   "cell_type": "code",
   "execution_count": 60,
   "metadata": {},
   "outputs": [
    {
     "data": {
      "image/png": "[encoded data removed]",
      "text/plain": [
       "<Figure size 1400x1500 with 2 Axes>"
      ]
     },
     "metadata": {},
     "output_type": "display_data"
    }
   ],
   "source": [
    "\n",
    "# Setting the grid style and figure\n",
    "sns.set_style('darkgrid')\n",
    "fig, ax = plt.subplots(figsize=(14,15) ,nrows=2, ncols=1)\n",
    "\n",
    "\n",
    "# Creating a boxplot for showing the outlieres\n",
    "ax[0].boxplot('Percentage',data=Churn_of_states,notch=True, showmeans=True,patch_artist=False, showfliers =False,medianprops={\"color\": \"red\", \"linewidth\": 0.5})\n",
    "ax[0].text(1.05,13.5, np.median(Churn_of_states['Percentage']),va='center',fontdict={'fontsize':16})\n",
    "\n",
    "# Assigning the labels,title, ticks, legends etc for boxplot.\n",
    "ax[0].set_title('Percentage of Churns by States (Box)',size =22,color ='red')\n",
    "\n",
    "\n",
    "# Creating the scatterplot\n",
    "ax[1].scatter('State', 'Percentage', color ='blue', marker='1',s=50, data=Churn_of_states)\n",
    "\n",
    "\n",
    "# Assigning the labels,title, ticks, legends etc for scatterplot.\n",
    "ax[1].set_xlabel('States',color='indigo',fontsize =16)\n",
    "ax[1].set_ylabel('Pecnetage %',color='indigo',fontsize =16)\n",
    "ax[1].set_yticks(np.arange(0,31,3))\n",
    "ax[1].set_title('Percentage of Churns by States (Scatter)',size =22,color ='red')\n",
    "\n",
    "# showing the plot\n",
    "plt.show()"
   ]
  },
  {
   "cell_type": "markdown",
   "id": "0e4e2460",
   "metadata": {},
   "source": [
    "**Here we can see  with the help of box plot that most of the churn lies between 9% to 17% with median being 13.64%.**\n",
    "\n",
    "**WE can also see that states like Ca, Md, Nj,Tx  have churn rates more than 24% which is much more than the median by approx 10%.**"
   ]
  },
  {
   "cell_type": "markdown",
   "id": "a869ec90",
   "metadata": {},
   "source": [
    "# 3 Top 10 states with highest churn with highest customers"
   ]
  },
  {
   "cell_type": "code",
   "execution_count": 15,
   "id": "c2bdadc6",
   "metadata": {},
   "outputs": [
    {
     "name": "stdout",
     "output_type": "stream",
     "text": [
      "   index State  Total  Churn  Percentage\n",
      "0     49    WV    106     10        9.43\n",
      "1     23    MN     84     15       17.86\n",
      "2     34    NY     83     15       18.07\n",
      "3      1    AL     80      8       10.00\n",
      "4     37    OR     78     11       14.10\n",
      "5     48    WI     78      7        8.97\n",
      "6     35    OH     78     10       12.82\n",
      "7     45    VA     77      5        6.49\n",
      "8     50    WY     77      9       11.69\n",
      "9      6    CT     74     12       16.22\n"
     ]
    }
   ],
   "source": [
    "# Top 10 States by highest percent of churns and customers\n",
    "Churn_by_States_chart = Churn_of_states.sort_values(by='Total', ascending=False).head(10)\n",
    "print(Churn_by_States_chart.reset_index())"
   ]
  },
  {
   "cell_type": "code",
   "execution_count": 16,
   "id": "1b36fdbd",
   "metadata": {},
   "outputs": [
    {
     "data": {
      "image/png": "[encoded data removed]",
      "text/plain": [
       "<Figure size 1200x600 with 1 Axes>"
      ]
     },
     "metadata": {},
     "output_type": "display_data"
    }
   ],
   "source": [
    "\n",
    "\n",
    "# Figure and style\n",
    "fig = plt.figure(figsize=(12,6))\n",
    "plt.bar('State','Percentage', label=list('Percentage'), color='purple' ,alpha=0.8,edgecolor='black', linewidth=1 , width=-0.5,data=Churn_by_States_chart)\n",
    "\n",
    "\n",
    "# creating the label for chart using the for loop \n",
    "for i,v in enumerate(Churn_by_States_chart.Percentage):\n",
    "    plt.text(i,float(v)+0.4,s=v,va='center', ha='center',fontweight=500)\n",
    "\n",
    "# Assigning the labels,title, ticks, legends etc.\n",
    "plt.xlabel('States', fontdict=({'fontsize':16, 'font':'Calibri', 'weight':'bold'}))\n",
    "plt.ylabel('Churns %', fontdict=({'fontsize':16, 'font':'Calibri', 'weight':'bold'}))\n",
    "plt.yticks(list(i for i in range(0,21,2)))\n",
    "plt.title('Percentage of churns in top 10 states with highest customers',fontname='Calibri',fontsize=18, color='red')\n",
    "\n",
    "#Plotting the chart\n",
    "\n",
    "plt.show()"
   ]
  },
  {
   "cell_type": "markdown",
   "id": "bf6fac63",
   "metadata": {},
   "source": [
    "**We can see that in states MN, NY, OR, OH,CT with highest customers the Churn rate is more than the average Churn for  top 10 States.**"
   ]
  },
  {
   "cell_type": "markdown",
   "id": "c456469d",
   "metadata": {},
   "source": [
    "# 4 Churn by Area code"
   ]
  },
  {
   "cell_type": "code",
   "execution_count": 17,
   "metadata": {},
   "outputs": [
    {
     "name": "stdout",
     "output_type": "stream",
     "text": [
      "   Area code  Churn_true  Churn_false  Total  percentage\n",
      "0        408         122          716    838       14.56\n",
      "1        415         236         1419   1655       14.26\n",
      "2        510         125          715    840       14.88\n"
     ]
    }
   ],
   "source": [
    "# Wrangling the data for using in the chart  by Area code\n",
    "\n",
    "#Area code with churn false\n",
    "churn_false_areacode = df.loc[df['Churn']== False].groupby('Area code')['Churn'].count().reset_index()\n",
    "churn_false_areacode.rename(columns={'Churn':'Churn_false'},inplace=True)\n",
    "\n",
    "#Area code with churn True\n",
    "churn_True_areacode = df.loc[df['Churn']== True].groupby('Area code')['Churn'].count().reset_index()\n",
    "churn_True_areacode.rename(columns={'Churn':'Churn_true'},inplace=True)\n",
    "\n",
    "\n",
    "#merging the data for better understanding realationship between the two datasets\n",
    "churn_by_area_code =churn_True_areacode.merge(churn_false_areacode,how='inner', on='Area code')\n",
    "\n",
    "# creating two additional fields\n",
    "churn_by_area_code['Total'] = churn_by_area_code['Churn_false'] + churn_by_area_code['Churn_true']\n",
    "churn_by_area_code['percentage'] = round(churn_by_area_code['Churn_true']/churn_by_area_code['Total']*100,2)\n",
    "\n",
    "print(churn_by_area_code)"
   ]
  },
  {
   "cell_type": "code",
   "execution_count": 46,
   "metadata": {},
   "outputs": [
    {
     "data": {
      "image/png": "[encoded data removed]",
      "text/plain": [
       "<Figure size 640x480 with 1 Axes>"
      ]
     },
     "metadata": {},
     "output_type": "display_data"
    }
   ],
   "source": [
    "#creating the range for the x axis\n",
    "x=np.arange(3)\n",
    "\n",
    "#Bar chart\n",
    "plt.bar(x - 0.2,'Churn_true', width=0.4,data=churn_by_area_code)\n",
    "plt.bar(x +0.2,'Churn_false',width=0.4,data=churn_by_area_code)\n",
    "\n",
    "#assigning the label\n",
    "x_value =0\n",
    "for i in churn_by_area_code['Area code']:\n",
    "    plt.text(x_value,-60,i,va='center')\n",
    "    x_value+=1\n",
    "\n",
    "x_value =-0.3\n",
    "for i in churn_by_area_code['percentage']:\n",
    "    plt.text(x_value, (churn_by_area_code['Churn_true'].loc[churn_by_area_code.percentage == i]), i, va='bottom')\n",
    "    x_value+=1\n",
    "\n",
    "# Assigning the labels,title, ticks, legends etc.\n",
    "plt.xticks(np.arange(0,0,1))\n",
    "plt.xlabel('Area code',labelpad=20)\n",
    "plt.ylabel('Churn')\n",
    "plt.legend(['True','False'])\n",
    "plt.title('Churn by Area code',color='red')\n",
    "\n",
    "#Plotting  the chart\n",
    "plt.show()"
   ]
  },
  {
   "cell_type": "markdown",
   "id": "c5209679",
   "metadata": {},
   "source": [
    "**People living in the area code 415 is churning more as compared to people livingin   510  and 408 respectively.** \n",
    "\n",
    "**But the percent in area code 510 is higher with 14.88% of churning customers.**"
   ]
  },
  {
   "cell_type": "markdown",
   "id": "6a643a7f",
   "metadata": {},
   "source": [
    "# 5 Checking the Account length by Churn"
   ]
  },
  {
   "cell_type": "code",
   "execution_count": 44,
   "id": "3c7b0f9c",
   "metadata": {},
   "outputs": [
    {
     "data": {
      "image/png": "[encoded data removed]",
      "text/plain": [
       "<Figure size 800x400 with 1 Axes>"
      ]
     },
     "metadata": {},
     "output_type": "display_data"
    }
   ],
   "source": [
    "# creating a dict for plotting the data\n",
    "Total_Accountlength_bychurn_mean = dict(round(df.groupby('Churn')['Account length'].mean(),2))\n",
    "\n",
    "# Extract the values and labels\n",
    "values1 = list(Total_Accountlength_bychurn_mean.values())\n",
    "labels1 = list(Total_Accountlength_bychurn_mean.keys())\n",
    "\n",
    "#Creating th figures\n",
    "plt.figure(figsize=(8, 4))\n",
    "plt.barh(labels1, values1, color=['yellow', 'orange'], edgecolor='silver')  # Custom colors\n",
    "\n",
    "# Add value labels\n",
    "for i, v in enumerate(values1):\n",
    "    plt.text(v + 1, i, f'{v:.2f}', va='center', fontsize=12)\n",
    "\n",
    "    plt.text(25, i, labels1[i], va='center', ha='right', fontsize=12, fontweight='bold')\n",
    "\n",
    "# Customize axes and title\n",
    "plt.xlabel('Average Account length ')\n",
    "plt.ylabel('Churn')\n",
    "plt.title('Churn by Account length',color='red')\n",
    "plt.yticks(np.arange(0,0,1))\n",
    "\n",
    "#Plotting the chart\n",
    "plt.show()\n"
   ]
  },
  {
   "cell_type": "markdown",
   "id": "4cfbf02b",
   "metadata": {},
   "source": [
    "**People with larger Account length are Churning more as compared to People with less Account length**\n",
    "\n",
    "**This can only satisy that people are not holding the subsciption as their contract lenght widens.This can only mean people are leaving because they dont find it useful to them as time progresses**"
   ]
  },
  {
   "cell_type": "markdown",
   "id": "557e6bce",
   "metadata": {},
   "source": [
    "# 6 Checking the Total night duration by Churn"
   ]
  },
  {
   "cell_type": "markdown",
   "id": "b9ea2322",
   "metadata": {},
   "source": [
    "### Heatmap for showing the difference between duration of calls between three times"
   ]
  },
  {
   "cell_type": "code",
   "execution_count": 20,
   "id": "01169324",
   "metadata": {},
   "outputs": [
    {
     "data": {
      "image/png": "[encoded data removed]",
      "text/plain": [
       "<Figure size 1500x900 with 2 Axes>"
      ]
     },
     "metadata": {},
     "output_type": "display_data"
    }
   ],
   "source": [
    "# Creating the heat map for showing the differecne between day, eve, night duration of calls\n",
    "fig =plt.figure(figsize=(15,9))\n",
    "sns.heatmap(df[['Total night minutes','Total eve minutes','Total day minutes']],cmap='Spectral')\n",
    "plt.yticks([])\n",
    "\n",
    "# Plotting the chart\n",
    "plt.show()"
   ]
  },
  {
   "cell_type": "markdown",
   "id": "152d7289",
   "metadata": {},
   "source": [
    "**The heatmap shows that the people are more actively talking in night and evening time followed by day time.** "
   ]
  },
  {
   "cell_type": "code",
   "execution_count": 43,
   "id": "2fab4274",
   "metadata": {},
   "outputs": [
    {
     "data": {
      "image/png": "[encoded data removed]",
      "text/plain": [
       "<Figure size 600x400 with 1 Axes>"
      ]
     },
     "metadata": {},
     "output_type": "display_data"
    }
   ],
   "source": [
    "# creating a dict for plotting the data\n",
    "Total_night_duration_bychurn_mean = dict(round(df.groupby('Churn')['Total night minutes'].mean(),2))\n",
    "\n",
    "# Extract the values and labels\n",
    "values2 = list(Total_night_duration_bychurn_mean.values())\n",
    "labels2 = list(Total_night_duration_bychurn_mean.keys())\n",
    "\n",
    "plt.figure(figsize=(6, 4))\n",
    "plt.barh(labels2, values2, color=['black', 'purple'])  # Custom colors\n",
    "\n",
    "# Add value labels\n",
    "for i, v in enumerate(values2):\n",
    "    plt.text(v + 1, i, f'{v:.2f}', va='center', fontsize=12)\n",
    "\n",
    "    plt.text(25, i, labels2[i], va='center', ha='right', fontsize=12,color='w', fontweight='bold')\n",
    "\n",
    "# Customize axes and title\n",
    "plt.xlabel('Average Total night minutes')\n",
    "plt.ylabel('Churn')\n",
    "plt.title('Total Night Minutes by Churn Status',color='red')\n",
    "plt.yticks(np.arange(0,0,1))\n",
    "\n",
    "#Plotting the chart\n",
    "plt.show()"
   ]
  },
  {
   "cell_type": "markdown",
   "id": "a4b2afb3",
   "metadata": {},
   "source": [
    "**People with high night duration tends to churn more with 5% more churn rate. The reason may be bad Connectivity at night.**"
   ]
  },
  {
   "cell_type": "markdown",
   "id": "509e619c",
   "metadata": {},
   "source": [
    "# 7 Voice mail plan and International call plan relationship by Churn"
   ]
  },
  {
   "cell_type": "code",
   "execution_count": 33,
   "id": "b4745098",
   "metadata": {},
   "outputs": [
    {
     "data": {
      "text/html": [
       "<div>\n",
       "<style scoped>\n",
       "    .dataframe tbody tr th:only-of-type {\n",
       "        vertical-align: middle;\n",
       "    }\n",
       "\n",
       "    .dataframe tbody tr th {\n",
       "        vertical-align: top;\n",
       "    }\n",
       "\n",
       "    .dataframe thead th {\n",
       "        text-align: right;\n",
       "    }\n",
       "</style>\n",
       "<table border=\"1\" class=\"dataframe\">\n",
       "  <thead>\n",
       "    <tr style=\"text-align: right;\">\n",
       "      <th></th>\n",
       "      <th>Churn</th>\n",
       "      <th>Voice mail plan</th>\n",
       "      <th>count</th>\n",
       "    </tr>\n",
       "  </thead>\n",
       "  <tbody>\n",
       "    <tr>\n",
       "      <th>0</th>\n",
       "      <td>False</td>\n",
       "      <td>No</td>\n",
       "      <td>2008</td>\n",
       "    </tr>\n",
       "    <tr>\n",
       "      <th>1</th>\n",
       "      <td>False</td>\n",
       "      <td>Yes</td>\n",
       "      <td>842</td>\n",
       "    </tr>\n",
       "    <tr>\n",
       "      <th>2</th>\n",
       "      <td>True</td>\n",
       "      <td>No</td>\n",
       "      <td>403</td>\n",
       "    </tr>\n",
       "    <tr>\n",
       "      <th>3</th>\n",
       "      <td>True</td>\n",
       "      <td>Yes</td>\n",
       "      <td>80</td>\n",
       "    </tr>\n",
       "  </tbody>\n",
       "</table>\n",
       "</div>"
      ],
      "text/plain": [
       "   Churn Voice mail plan  count\n",
       "0  False              No   2008\n",
       "1  False             Yes    842\n",
       "2   True              No    403\n",
       "3   True             Yes     80"
      ]
     },
     "execution_count": 33,
     "metadata": {},
     "output_type": "execute_result"
    }
   ],
   "source": [
    "#Checking the values of churn by grouping with voice mail plan\n",
    "\n",
    "vmail_by_churn = df[['Churn','Voice mail plan']].value_counts().reset_index()\n",
    "vmail_by_churn"
   ]
  },
  {
   "cell_type": "code",
   "execution_count": 34,
   "id": "780184d3",
   "metadata": {},
   "outputs": [
    {
     "data": {
      "text/html": [
       "<div>\n",
       "<style scoped>\n",
       "    .dataframe tbody tr th:only-of-type {\n",
       "        vertical-align: middle;\n",
       "    }\n",
       "\n",
       "    .dataframe tbody tr th {\n",
       "        vertical-align: top;\n",
       "    }\n",
       "\n",
       "    .dataframe thead th {\n",
       "        text-align: right;\n",
       "    }\n",
       "</style>\n",
       "<table border=\"1\" class=\"dataframe\">\n",
       "  <thead>\n",
       "    <tr style=\"text-align: right;\">\n",
       "      <th></th>\n",
       "      <th>Churn</th>\n",
       "      <th>International plan</th>\n",
       "      <th>count</th>\n",
       "    </tr>\n",
       "  </thead>\n",
       "  <tbody>\n",
       "    <tr>\n",
       "      <th>0</th>\n",
       "      <td>False</td>\n",
       "      <td>No</td>\n",
       "      <td>2664</td>\n",
       "    </tr>\n",
       "    <tr>\n",
       "      <th>1</th>\n",
       "      <td>True</td>\n",
       "      <td>No</td>\n",
       "      <td>346</td>\n",
       "    </tr>\n",
       "    <tr>\n",
       "      <th>2</th>\n",
       "      <td>False</td>\n",
       "      <td>Yes</td>\n",
       "      <td>186</td>\n",
       "    </tr>\n",
       "    <tr>\n",
       "      <th>3</th>\n",
       "      <td>True</td>\n",
       "      <td>Yes</td>\n",
       "      <td>137</td>\n",
       "    </tr>\n",
       "  </tbody>\n",
       "</table>\n",
       "</div>"
      ],
      "text/plain": [
       "   Churn International plan  count\n",
       "0  False                 No   2664\n",
       "1   True                 No    346\n",
       "2  False                Yes    186\n",
       "3   True                Yes    137"
      ]
     },
     "execution_count": 34,
     "metadata": {},
     "output_type": "execute_result"
    }
   ],
   "source": [
    "#Checking the values of churn by grouping with International plan\n",
    "\n",
    "intplan_by_churn = df[['Churn','International plan']].value_counts().reset_index()\n",
    "intplan_by_churn"
   ]
  },
  {
   "cell_type": "code",
   "execution_count": 24,
   "id": "d6a7ade1",
   "metadata": {},
   "outputs": [
    {
     "data": {
      "text/html": [
       "<div>\n",
       "<style scoped>\n",
       "    .dataframe tbody tr th:only-of-type {\n",
       "        vertical-align: middle;\n",
       "    }\n",
       "\n",
       "    .dataframe tbody tr th {\n",
       "        vertical-align: top;\n",
       "    }\n",
       "\n",
       "    .dataframe thead th {\n",
       "        text-align: right;\n",
       "    }\n",
       "</style>\n",
       "<table border=\"1\" class=\"dataframe\">\n",
       "  <thead>\n",
       "    <tr style=\"text-align: right;\">\n",
       "      <th></th>\n",
       "      <th>index</th>\n",
       "      <th>International plan</th>\n",
       "      <th>Total intl charge</th>\n",
       "      <th>Total intl calls</th>\n",
       "      <th>per call charge</th>\n",
       "    </tr>\n",
       "  </thead>\n",
       "  <tbody>\n",
       "    <tr>\n",
       "      <th>0</th>\n",
       "      <td>0</td>\n",
       "      <td>No</td>\n",
       "      <td>2.753279</td>\n",
       "      <td>4.465449</td>\n",
       "      <td>0.616574</td>\n",
       "    </tr>\n",
       "    <tr>\n",
       "      <th>1</th>\n",
       "      <td>1</td>\n",
       "      <td>Yes</td>\n",
       "      <td>2.869907</td>\n",
       "      <td>4.609907</td>\n",
       "      <td>0.622552</td>\n",
       "    </tr>\n",
       "  </tbody>\n",
       "</table>\n",
       "</div>"
      ],
      "text/plain": [
       "   index International plan  Total intl charge  Total intl calls  \\\n",
       "0      0                 No           2.753279          4.465449   \n",
       "1      1                Yes           2.869907          4.609907   \n",
       "\n",
       "   per call charge  \n",
       "0         0.616574  \n",
       "1         0.622552  "
      ]
     },
     "execution_count": 24,
     "metadata": {},
     "output_type": "execute_result"
    }
   ],
   "source": [
    "#Creating a suitable dataset for acquiring the per call charge and international plan\n",
    "\n",
    "International_cost1 =df.groupby('International plan')['Total intl charge'].mean().reset_index()\n",
    "International_cost2 =df.groupby('International plan')['Total intl calls'].mean().reset_index()\n",
    "\n",
    "#Merging the two dataset for better view\n",
    "International_cost = International_cost1.merge(International_cost2, how ='outer',on='International plan').reset_index()\n",
    "\n",
    "International_cost['per call charge'] =International_cost['Total intl charge']/International_cost['Total intl calls']\n",
    "International_cost"
   ]
  },
  {
   "cell_type": "code",
   "execution_count": 40,
   "id": "7e85fc3b",
   "metadata": {},
   "outputs": [
    {
     "data": {
      "image/png": "[encoded data removed]",
      "text/plain": [
       "<Figure size 640x480 with 1 Axes>"
      ]
     },
     "metadata": {},
     "output_type": "display_data"
    }
   ],
   "source": [
    "# Creating the bar plot for checking the difference between cost of Internatiol call with international plan and without plan\n",
    "sns.barplot(x='International plan', y='per call charge', data=International_cost)\n",
    "\n",
    "#Creating the in map labels for ppercentage\n",
    "x=0\n",
    "for i in International_cost['per call charge']:\n",
    "    plt.text(x,i+0.01,f'{i:.4f}',va='center_baseline')\n",
    "    x+=1\n",
    "\n",
    "#Title of the plot\n",
    "plt.title(\"International cost of calls with and without plans\",color='red')\n",
    "\n",
    "#plotting the chart\n",
    "plt.show()"
   ]
  },
  {
   "cell_type": "markdown",
   "id": "c45b9952",
   "metadata": {
    "tags": []
   },
   "source": [
    "**Here we can see that even after having an International plan the per cost charge of calls are almost same. so there is no reason for customers to buy the International plan**"
   ]
  },
  {
   "cell_type": "markdown",
   "id": "16321f68",
   "metadata": {},
   "source": [
    "# 8 Customer service calls by Churn"
   ]
  },
  {
   "cell_type": "code",
   "execution_count": 42,
   "id": "da6930b2",
   "metadata": {},
   "outputs": [
    {
     "data": {
      "image/png": "[encoded data removed]",
      "text/plain": [
       "<Figure size 640x480 with 1 Axes>"
      ]
     },
     "metadata": {},
     "output_type": "display_data"
    }
   ],
   "source": [
    "# Creating a box plot showing the relationship between Churn and service calls\n",
    "sns.boxplot(x ='Churn',y='Customer service calls',data=df)\n",
    "\n",
    "\n",
    "plt.title('Churn by the number of call customer made',color='red')\n",
    "\n",
    "# plotting the chart\n",
    "plt.show()"
   ]
  },
  {
   "cell_type": "markdown",
   "id": "51111734",
   "metadata": {},
   "source": [
    "**We can see that in case of churn there are more customer service call as compared to not churned ones, it shows that their Queries are not sorted properly or they are dissatisfied with the service.**"
   ]
  },
  {
   "cell_type": "markdown",
   "id": "e21ab5ac",
   "metadata": {},
   "source": [
    "## <font color='red' >Conclusion </font>"
   ]
  },
  {
   "cell_type": "markdown",
   "id": "ab3fcee6",
   "metadata": {},
   "source": [
    "•   The four charge fields are linear functions of the minute fields.\n",
    "\n",
    "•   The area code field and/or the state field are anomalous, and can be omitted.\n",
    "\n",
    "•   Customers with the International Plan tend to churn more frequently.\n",
    "\n",
    "•   Customers with four or more customer service calls churn more than four times as often as do the other customers.\n",
    "\n",
    "•   Customers with high day minutes and evening minutes tend to churn at a higher rate than do the other customers.\n",
    "\n",
    "•   There is no obvious association of churn with the variables day calls, evening calls, night calls, international calls, night minutes, international minutes, account length, or voice mail messages.\n"
   ]
  },
  {
   "cell_type": "markdown",
   "id": "21ae81eb",
   "metadata": {},
   "source": [
    "## <font color='red' >Solution to reduce the customer churn </font>"
   ]
  },
  {
   "cell_type": "markdown",
   "id": "b0cdcaf5",
   "metadata": {},
   "source": [
    "\n",
    "\n",
    "*   Modify International Plan as the charge is same as normal one.\n",
    "*   Be proactive with communication.\n",
    "*   Ask for feedback often.\n",
    "*   Periodically throw Offers to retain customers.\n",
    "*   Look at the customers facing problem in  the most churning states.\n",
    "*   Lean into  best customers.\n",
    "*   Regular Server Maintenance.\n",
    "*   Solving Poor Network Connectivity Issue.\n",
    "*   Define a roadmap for new customers.\n",
    "*   Analyze churn when it happens.\n",
    "*   Stay competitive.\n"
   ]
  }
 ],
 "metadata": {
  "kernelspec": {
   "display_name": "Python 3 (ipykernel)",
   "language": "python",
   "name": "python3"
  },
  "language_info": {
   "codemirror_mode": {
    "name": "ipython",
    "version": 3
   },
   "file_extension": ".py",
   "mimetype": "text/x-python",
   "name": "python",
   "nbconvert_exporter": "python",
   "pygments_lexer": "ipython3",
   "version": "3.11.5"
  }
 },
 "nbformat": 4,
 "nbformat_minor": 5
}
